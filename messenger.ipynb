{
 "metadata": {
  "language_info": {
   "codemirror_mode": {
    "name": "ipython",
    "version": 3
   },
   "file_extension": ".py",
   "mimetype": "text/x-python",
   "name": "python",
   "nbconvert_exporter": "python",
   "pygments_lexer": "ipython3",
   "version": "3.8.5-final"
  },
  "orig_nbformat": 2,
  "kernelspec": {
   "name": "python3",
   "display_name": "Python 3.8.5 64-bit (conda)",
   "metadata": {
    "interpreter": {
     "hash": "ff55f8ed56cbd0fdd4916fd7184e4448a6e1a7edf0e8b2b47398e30ff16eca15"
    }
   }
  }
 },
 "nbformat": 4,
 "nbformat_minor": 2,
 "cells": [
  {
   "cell_type": "code",
   "execution_count": 5,
   "metadata": {},
   "outputs": [],
   "source": [
    "import pandas as pd \n",
    "pd.set_option('display.max_columns', None)\n",
    "import json\n",
    "import random\n",
    "import glob\n",
    "\n",
    "folder_path = './messages/*'\n",
    "path_to_file = './messages/message_1.json'\n",
    "abs_path = \"C:/Users/Justi/Documents/Git/messenger_game/messages/message_1.json\""
   ]
  },
  {
   "cell_type": "code",
   "execution_count": 6,
   "metadata": {},
   "outputs": [
    {
     "output_type": "stream",
     "name": "stdout",
     "text": [
      "['./messages/message_1.json', './messages/message_2.json', './messages/message_3.json', './messages/message_4.json']\n"
     ]
    }
   ],
   "source": [
    "import json\n",
    "import os\n",
    "\n",
    "# with open(abs_path) as file:\n",
    "#     chat_history = json.load(file)\n",
    "\n",
    "all_json_files = []\n",
    "\n",
    "for i in range(1, 5):\n",
    "    all_json_files.append(f\"./messages/message_{i}.json\")\n",
    "counter = 0\n",
    "dataframes = []\n",
    "for filename in all_json_files:\n",
    "    with open(filename) as file:\n",
    "        chat_history = json.load(file)\n",
    "    messages = pd.DataFrame(chat_history['messages'])\n",
    "    dataframes.append(messages)\n",
    "\n",
    "messages = pd.concat(dataframes, axis=0, ignore_index=True)\n",
    "messages.to_csv(\"output.csv\", index=False)"
   ]
  },
  {
   "cell_type": "code",
   "execution_count": null,
   "metadata": {},
   "outputs": [],
   "source": [
    "chat_history['messages'][0]['content']"
   ]
  },
  {
   "cell_type": "code",
   "execution_count": 69,
   "metadata": {},
   "outputs": [],
   "source": []
  },
  {
   "cell_type": "code",
   "execution_count": 96,
   "metadata": {},
   "outputs": [],
   "source": [
    "def convert_time(timestamp):\n",
    "    return pd.to_datetime(timestamp, unit='ms')"
   ]
  },
  {
   "cell_type": "code",
   "execution_count": 7,
   "metadata": {},
   "outputs": [
    {
     "output_type": "error",
     "ename": "IndentationError",
     "evalue": "expected an indented block (<ipython-input-7-a92a1e6c111a>, line 6)",
     "traceback": [
      "\u001b[1;36m  File \u001b[1;32m\"<ipython-input-7-a92a1e6c111a>\"\u001b[1;36m, line \u001b[1;32m6\u001b[0m\n\u001b[1;33m    rand_num = random.randint(0, rows - 1)\u001b[0m\n\u001b[1;37m    ^\u001b[0m\n\u001b[1;31mIndentationError\u001b[0m\u001b[1;31m:\u001b[0m expected an indented block\n"
     ]
    }
   ],
   "source": [
    "def random_msg(): \n",
    "    rows = messages.shape[0]\n",
    "    content = \"\"\n",
    "    \n",
    "    # while (len(message) > 5):\n",
    "    rand_num = random.randint(0, rows - 1)\n",
    "    message_info = messages.iloc[rand_num]\n",
    "    sender = message_info[0]\n",
    "    time = convert_time(message_info[1])\n",
    "    content = message_info[2]\n",
    "    # print(messages.iloc[rand_num])\n",
    "    print(f\"sender: {sender} \\ntime: {time} \\nmessage_content: {content}\")\n",
    "\n",
    "random_msg()"
   ]
  },
  {
   "cell_type": "code",
   "execution_count": null,
   "metadata": {},
   "outputs": [],
   "source": []
  }
 ]
}