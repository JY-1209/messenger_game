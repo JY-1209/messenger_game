{
 "metadata": {
  "language_info": {
   "codemirror_mode": {
    "name": "ipython",
    "version": 3
   },
   "file_extension": ".py",
   "mimetype": "text/x-python",
   "name": "python",
   "nbconvert_exporter": "python",
   "pygments_lexer": "ipython3",
   "version": "3.8.5-final"
  },
  "orig_nbformat": 2,
  "kernelspec": {
   "name": "python3",
   "display_name": "Python 3.8.5 64-bit (conda)",
   "metadata": {
    "interpreter": {
     "hash": "ff55f8ed56cbd0fdd4916fd7184e4448a6e1a7edf0e8b2b47398e30ff16eca15"
    }
   }
  }
 },
 "nbformat": 4,
 "nbformat_minor": 2,
 "cells": [
  {
   "cell_type": "code",
   "execution_count": null,
   "metadata": {},
   "outputs": [],
   "source": [
    "import pandas as pd \n",
    "pd.set_option('display.max_columns', None)\n",
    "import json\n",
    "import random\n",
    "import glob"
   ]
  },
  {
   "cell_type": "code",
   "execution_count": 54,
   "metadata": {},
   "outputs": [
    {
     "output_type": "stream",
     "name": "stdout",
     "text": [
      "[]\n['C:/Users/Justi/Desktop/messages/message_1.json', 'C:/Users/Justi/Desktop/messages/message_2.json', 'C:/Users/Justi/Desktop/messages/message_3.json', 'C:/Users/Justi/Desktop/messages/message_4.json']\n"
     ]
    }
   ],
   "source": [
    "import json\n",
    "import os\n",
    "\n",
    "# with open(abs_path) as file:\n",
    "#     chat_history = json.load(file)\n",
    "\n",
    "all_json_files = []\n",
    "for i in range(1, 5):\n",
    "    all_json_files.append(f\"C:/Users/Justi/Desktop/messages/message_{i}.json\")\n",
    "counter = 0\n",
    "dataframes = []\n",
    "for filename in all_json_files:\n",
    "    with open(filename) as file:\n",
    "        chat_history = json.load(file)\n",
    "    messages = pd.DataFrame(chat_history['messages'])\n",
    "    dataframes.append(messages)\n",
    "\n",
    "messages = pd.concat(dataframes, axis=0, ignore_index=True)\n",
    "messages.to_csv(\"output.csv\", index=False)"
   ]
  },
  {
   "cell_type": "code",
   "execution_count": 68,
   "metadata": {},
   "outputs": [
    {
     "output_type": "execute_result",
     "data": {
      "text/plain": [
       "sender_name                                               Eva Zhou\n",
       "timestamp_ms                                         1593487690176\n",
       "content          Like I havenât taken my phone the the bathro...\n",
       "reactions                                                      NaN\n",
       "type                                                       Generic\n",
       "is_unsent                                                    False\n",
       "photos                                                         NaN\n",
       "videos                                                         NaN\n",
       "share                                                          NaN\n",
       "gifs                                                           NaN\n",
       "call_duration                                                  NaN\n",
       "sticker                                                        NaN\n",
       "audio_files                                                    NaN\n",
       "files                                                          NaN\n",
       "users                                                          NaN\n",
       "Name: 18544, dtype: object"
      ]
     },
     "metadata": {},
     "execution_count": 68
    }
   ],
   "source": [
    "messages.iloc[18544]"
   ]
  },
  {
   "cell_type": "code",
   "execution_count": 55,
   "metadata": {},
   "outputs": [
    {
     "output_type": "execute_result",
     "data": {
      "text/plain": [
       "       sender_name   timestamp_ms                                  content  \\\n",
       "0      Justin Yang  1616524044943                                       25   \n",
       "1       Larry Jing  1616524030162                    when do you get back?   \n",
       "2         Eva Zhou  1616518054435                                  aww fun   \n",
       "3      Justin Yang  1616517410664  Look who came out to hang out yesterday   \n",
       "4      Justin Yang  1616517378227                                      NaN   \n",
       "...            ...            ...                                      ...   \n",
       "32242   Larry Jing  1582059200937              Legs joined the video chat.   \n",
       "32243  Justin Yang  1582059194537               You joined the video chat.   \n",
       "32244     Eva Zhou  1582059190486           dumbass joined the video chat.   \n",
       "32245     Eva Zhou  1582059189075            dumbass started a video chat.   \n",
       "32246     Eva Zhou  1582059101580             dumbass named the group SMH.   \n",
       "\n",
       "                                               reactions     type  is_unsent  \\\n",
       "0      [{'reaction': 'â¤', 'actor': 'Eva Zhou'}, {'r...  Generic      False   \n",
       "1                                                    NaN  Generic      False   \n",
       "2                                                    NaN  Generic      False   \n",
       "3                                                    NaN  Generic      False   \n",
       "4                                                    NaN  Generic      False   \n",
       "...                                                  ...      ...        ...   \n",
       "32242                                                NaN  Generic      False   \n",
       "32243                                                NaN  Generic      False   \n",
       "32244                                                NaN  Generic      False   \n",
       "32245                                                NaN     Call      False   \n",
       "32246                                                NaN  Generic      False   \n",
       "\n",
       "                                                  photos videos share gifs  \\\n",
       "0                                                    NaN    NaN   NaN  NaN   \n",
       "1                                                    NaN    NaN   NaN  NaN   \n",
       "2                                                    NaN    NaN   NaN  NaN   \n",
       "3                                                    NaN    NaN   NaN  NaN   \n",
       "4      [{'uri': 'messages/inbox/smh_fvneaw5wxw/photos...    NaN   NaN  NaN   \n",
       "...                                                  ...    ...   ...  ...   \n",
       "32242                                                NaN    NaN   NaN  NaN   \n",
       "32243                                                NaN    NaN   NaN  NaN   \n",
       "32244                                                NaN    NaN   NaN  NaN   \n",
       "32245                                                NaN    NaN   NaN  NaN   \n",
       "32246                                                NaN    NaN   NaN  NaN   \n",
       "\n",
       "       call_duration sticker audio_files files users  \n",
       "0                NaN     NaN         NaN   NaN   NaN  \n",
       "1                NaN     NaN         NaN   NaN   NaN  \n",
       "2                NaN     NaN         NaN   NaN   NaN  \n",
       "3                NaN     NaN         NaN   NaN   NaN  \n",
       "4                NaN     NaN         NaN   NaN   NaN  \n",
       "...              ...     ...         ...   ...   ...  \n",
       "32242            NaN     NaN         NaN   NaN   NaN  \n",
       "32243            NaN     NaN         NaN   NaN   NaN  \n",
       "32244            NaN     NaN         NaN   NaN   NaN  \n",
       "32245            0.0     NaN         NaN   NaN   NaN  \n",
       "32246            NaN     NaN         NaN   NaN   NaN  \n",
       "\n",
       "[32247 rows x 15 columns]"
      ],
      "text/html": "<div>\n<style scoped>\n    .dataframe tbody tr th:only-of-type {\n        vertical-align: middle;\n    }\n\n    .dataframe tbody tr th {\n        vertical-align: top;\n    }\n\n    .dataframe thead th {\n        text-align: right;\n    }\n</style>\n<table border=\"1\" class=\"dataframe\">\n  <thead>\n    <tr style=\"text-align: right;\">\n      <th></th>\n      <th>sender_name</th>\n      <th>timestamp_ms</th>\n      <th>content</th>\n      <th>reactions</th>\n      <th>type</th>\n      <th>is_unsent</th>\n      <th>photos</th>\n      <th>videos</th>\n      <th>share</th>\n      <th>gifs</th>\n      <th>call_duration</th>\n      <th>sticker</th>\n      <th>audio_files</th>\n      <th>files</th>\n      <th>users</th>\n    </tr>\n  </thead>\n  <tbody>\n    <tr>\n      <th>0</th>\n      <td>Justin Yang</td>\n      <td>1616524044943</td>\n      <td>25</td>\n      <td>[{'reaction': 'â¤', 'actor': 'Eva Zhou'}, {'r...</td>\n      <td>Generic</td>\n      <td>False</td>\n      <td>NaN</td>\n      <td>NaN</td>\n      <td>NaN</td>\n      <td>NaN</td>\n      <td>NaN</td>\n      <td>NaN</td>\n      <td>NaN</td>\n      <td>NaN</td>\n      <td>NaN</td>\n    </tr>\n    <tr>\n      <th>1</th>\n      <td>Larry Jing</td>\n      <td>1616524030162</td>\n      <td>when do you get back?</td>\n      <td>NaN</td>\n      <td>Generic</td>\n      <td>False</td>\n      <td>NaN</td>\n      <td>NaN</td>\n      <td>NaN</td>\n      <td>NaN</td>\n      <td>NaN</td>\n      <td>NaN</td>\n      <td>NaN</td>\n      <td>NaN</td>\n      <td>NaN</td>\n    </tr>\n    <tr>\n      <th>2</th>\n      <td>Eva Zhou</td>\n      <td>1616518054435</td>\n      <td>aww fun</td>\n      <td>NaN</td>\n      <td>Generic</td>\n      <td>False</td>\n      <td>NaN</td>\n      <td>NaN</td>\n      <td>NaN</td>\n      <td>NaN</td>\n      <td>NaN</td>\n      <td>NaN</td>\n      <td>NaN</td>\n      <td>NaN</td>\n      <td>NaN</td>\n    </tr>\n    <tr>\n      <th>3</th>\n      <td>Justin Yang</td>\n      <td>1616517410664</td>\n      <td>Look who came out to hang out yesterday</td>\n      <td>NaN</td>\n      <td>Generic</td>\n      <td>False</td>\n      <td>NaN</td>\n      <td>NaN</td>\n      <td>NaN</td>\n      <td>NaN</td>\n      <td>NaN</td>\n      <td>NaN</td>\n      <td>NaN</td>\n      <td>NaN</td>\n      <td>NaN</td>\n    </tr>\n    <tr>\n      <th>4</th>\n      <td>Justin Yang</td>\n      <td>1616517378227</td>\n      <td>NaN</td>\n      <td>NaN</td>\n      <td>Generic</td>\n      <td>False</td>\n      <td>[{'uri': 'messages/inbox/smh_fvneaw5wxw/photos...</td>\n      <td>NaN</td>\n      <td>NaN</td>\n      <td>NaN</td>\n      <td>NaN</td>\n      <td>NaN</td>\n      <td>NaN</td>\n      <td>NaN</td>\n      <td>NaN</td>\n    </tr>\n    <tr>\n      <th>...</th>\n      <td>...</td>\n      <td>...</td>\n      <td>...</td>\n      <td>...</td>\n      <td>...</td>\n      <td>...</td>\n      <td>...</td>\n      <td>...</td>\n      <td>...</td>\n      <td>...</td>\n      <td>...</td>\n      <td>...</td>\n      <td>...</td>\n      <td>...</td>\n      <td>...</td>\n    </tr>\n    <tr>\n      <th>32242</th>\n      <td>Larry Jing</td>\n      <td>1582059200937</td>\n      <td>Legs joined the video chat.</td>\n      <td>NaN</td>\n      <td>Generic</td>\n      <td>False</td>\n      <td>NaN</td>\n      <td>NaN</td>\n      <td>NaN</td>\n      <td>NaN</td>\n      <td>NaN</td>\n      <td>NaN</td>\n      <td>NaN</td>\n      <td>NaN</td>\n      <td>NaN</td>\n    </tr>\n    <tr>\n      <th>32243</th>\n      <td>Justin Yang</td>\n      <td>1582059194537</td>\n      <td>You joined the video chat.</td>\n      <td>NaN</td>\n      <td>Generic</td>\n      <td>False</td>\n      <td>NaN</td>\n      <td>NaN</td>\n      <td>NaN</td>\n      <td>NaN</td>\n      <td>NaN</td>\n      <td>NaN</td>\n      <td>NaN</td>\n      <td>NaN</td>\n      <td>NaN</td>\n    </tr>\n    <tr>\n      <th>32244</th>\n      <td>Eva Zhou</td>\n      <td>1582059190486</td>\n      <td>dumbass joined the video chat.</td>\n      <td>NaN</td>\n      <td>Generic</td>\n      <td>False</td>\n      <td>NaN</td>\n      <td>NaN</td>\n      <td>NaN</td>\n      <td>NaN</td>\n      <td>NaN</td>\n      <td>NaN</td>\n      <td>NaN</td>\n      <td>NaN</td>\n      <td>NaN</td>\n    </tr>\n    <tr>\n      <th>32245</th>\n      <td>Eva Zhou</td>\n      <td>1582059189075</td>\n      <td>dumbass started a video chat.</td>\n      <td>NaN</td>\n      <td>Call</td>\n      <td>False</td>\n      <td>NaN</td>\n      <td>NaN</td>\n      <td>NaN</td>\n      <td>NaN</td>\n      <td>0.0</td>\n      <td>NaN</td>\n      <td>NaN</td>\n      <td>NaN</td>\n      <td>NaN</td>\n    </tr>\n    <tr>\n      <th>32246</th>\n      <td>Eva Zhou</td>\n      <td>1582059101580</td>\n      <td>dumbass named the group SMH.</td>\n      <td>NaN</td>\n      <td>Generic</td>\n      <td>False</td>\n      <td>NaN</td>\n      <td>NaN</td>\n      <td>NaN</td>\n      <td>NaN</td>\n      <td>NaN</td>\n      <td>NaN</td>\n      <td>NaN</td>\n      <td>NaN</td>\n      <td>NaN</td>\n    </tr>\n  </tbody>\n</table>\n<p>32247 rows × 15 columns</p>\n</div>"
     },
     "metadata": {},
     "execution_count": 55
    }
   ],
   "source": [
    "messages"
   ]
  },
  {
   "cell_type": "code",
   "execution_count": null,
   "metadata": {},
   "outputs": [],
   "source": [
    "def convert_time(timestamp):\n",
    "    return pd.to_datetime(timestamp, unit='ms')"
   ]
  },
  {
   "cell_type": "code",
   "execution_count": 62,
   "metadata": {},
   "outputs": [
    {
     "output_type": "stream",
     "name": "stdout",
     "text": [
      "content: One day i noticed i had like 300 steps by 7pm\nsender: Justin Yang \ntime: 2020-06-30 03:26:59.697000 \nmessage_content: One day i noticed i had like 300 steps by 7pm\nrandom number: 18554\nEva Zhou: Like I havenât taken my phone the the bathroom lol\nEva Zhou: i mean theres been a few more than that\nJustin Yang: Ye nice spike\nJustin Yang: 182 steps??\nJustin Yang: Noo\nJustin Yang: ohhh\nEva Zhou: Look at that big spike from when i hiked\nJustin Yang: Bit\nJustin Yang: So i ran a but\nEva Zhou: nan\n"
     ]
    }
   ],
   "source": [
    "def random_msg(): \n",
    "    rows = messages.shape[0]\n",
    "    content = \"\"\n",
    "    rand_num = 0\n",
    "    \n",
    "    while (len(content) < 5):\n",
    "        rand_num = random.randint(0, rows - 1)\n",
    "        message_info = messages.iloc[rand_num]\n",
    "        sender = message_info[0]\n",
    "        time = convert_time(message_info[1])\n",
    "        content = message_info[2]\n",
    "        if content == \"NaN\":\n",
    "            content = message_info[6]\n",
    "        print(f\"content: {content}\")\n",
    "    # print(messages.iloc[rand_num])\n",
    "    print(f\"sender: {sender} \\ntime: {time} \\nmessage_content: {content}\")\n",
    "\n",
    "    print(f\"random number: {rand_num}\")\n",
    "    if (rand_num > 10):\n",
    "        for i in range(rand_num - 10, rand_num):\n",
    "            message_info = messages.iloc[i]\n",
    "            sender = message_info[0]\n",
    "            content = message_info[2]\n",
    "            if content == \"NaN\":\n",
    "                content = message_info[6]\n",
    "            print(f\"{sender}: {content}\")\n",
    "\n",
    "random_msg()"
   ]
  },
  {
   "cell_type": "code",
   "execution_count": null,
   "metadata": {},
   "outputs": [],
   "source": []
  }
 ]
}